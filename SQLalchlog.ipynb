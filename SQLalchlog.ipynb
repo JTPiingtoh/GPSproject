{
 "cells": [
  {
   "cell_type": "code",
   "execution_count": 1,
   "metadata": {},
   "outputs": [
    {
     "ename": "ImportError",
     "evalue": "cannot import name 'alter_column' from 'sqlalchemy' (g:\\GPSProject\\.venv\\Lib\\site-packages\\sqlalchemy\\__init__.py)",
     "output_type": "error",
     "traceback": [
      "\u001b[1;31m---------------------------------------------------------------------------\u001b[0m",
      "\u001b[1;31mImportError\u001b[0m                               Traceback (most recent call last)",
      "Cell \u001b[1;32mIn[1], line 3\u001b[0m\n\u001b[0;32m      1\u001b[0m \u001b[38;5;28;01mfrom\u001b[39;00m \u001b[38;5;21;01mdatabase_dicts\u001b[39;00m \u001b[38;5;28;01mimport\u001b[39;00m sessions, sessions_data, players \u001b[38;5;66;03m# data to be loaded into db\u001b[39;00m\n\u001b[0;32m      2\u001b[0m \u001b[38;5;28;01mfrom\u001b[39;00m \u001b[38;5;21;01msqlalchemy\u001b[39;00m \u001b[38;5;28;01mimport\u001b[39;00m create_engine, Table, Column, Integer, String, MetaData, Integer, String, insert\n\u001b[1;32m----> 3\u001b[0m \u001b[38;5;28;01mfrom\u001b[39;00m \u001b[38;5;21;01msqlalchemy\u001b[39;00m \u001b[38;5;28;01mimport\u001b[39;00m alter_column\n\u001b[0;32m      5\u001b[0m engine \u001b[38;5;241m=\u001b[39m create_engine(\u001b[38;5;124m\"\u001b[39m\u001b[38;5;124msqlite+pysqlite:///GPSdata1.db\u001b[39m\u001b[38;5;124m\"\u001b[39m, echo\u001b[38;5;241m=\u001b[39m\u001b[38;5;28;01mFalse\u001b[39;00m)\n\u001b[0;32m      7\u001b[0m metadata_obj \u001b[38;5;241m=\u001b[39m MetaData()\n",
      "\u001b[1;31mImportError\u001b[0m: cannot import name 'alter_column' from 'sqlalchemy' (g:\\GPSProject\\.venv\\Lib\\site-packages\\sqlalchemy\\__init__.py)"
     ]
    }
   ],
   "source": [
    "from database_dicts import sessions, sessions_data, players # data to be loaded into db\n",
    "from sqlalchemy import create_engine, Table, Column, Integer, String, MetaData, Integer, String, insert\n",
    "from sqlalchemy import col\n",
    "\n",
    "engine = create_engine(\"sqlite+pysqlite:///GPSdata1.db\", echo=False)\n",
    "\n",
    "metadata_obj = MetaData()"
   ]
  },
  {
   "cell_type": "code",
   "execution_count": null,
   "metadata": {},
   "outputs": [],
   "source": []
  },
  {
   "cell_type": "code",
   "execution_count": 2,
   "metadata": {},
   "outputs": [],
   "source": [
    "# Create sessions  and sessions_data tables\n",
    "from sqlalchemy import Float\n",
    "\n",
    "with engine.connect() as conn:\n",
    "\n",
    "    sessions_table = Table(\n",
    "        \"sessions\",\n",
    "        metadata_obj,\n",
    "        Column(\"id\", Integer, primary_key=True),\n",
    "        Column(\"date\", String(255)),\n",
    "        Column(\"title\", String(255)),\n",
    "    )\n",
    "\n",
    "    # sessions_data_table = Table(\n",
    "    #     \"sessions_data\",\n",
    "    #     metadata_obj,\n",
    "    #     Column(\"player_id\", Integer, nullable=False), \n",
    "    #     Column(\"match_id\", Integer, nullable=False),\n",
    "    #     Column(\"Duration\", Float),\n",
    "    #     Column(\"Distance\", Float),\n",
    "    #     Column(\"HSR\", Float),\n",
    "    #     Column(\"SD\", Float),\n",
    "    #     Column(\"Accels + Decels\", Integer),\n",
    "    #     Column(\"PlayerLoad\", Float),\n",
    "    #     Column(\"Top Speed\", Float),\n",
    "    #     Column(\"Dis/min\", Float),\n",
    "    #     Column(\"HSR/min\", Float),\n",
    "    #     Column(\"SD/min\", Float),\n",
    "    #     Column(\"Accels + Decels /min\", Float),\n",
    "    # )\n",
    "\n",
    "    metadata_obj.create_all(engine)\n",
    "\n",
    "\n",
    "    \n"
   ]
  },
  {
   "cell_type": "code",
   "execution_count": 3,
   "metadata": {},
   "outputs": [],
   "source": [
    "# insert into sessions\n",
    "with engine.connect() as conn:\n",
    "\n",
    "    for session in sessions:\n",
    "\n",
    "        session_vals = {\n",
    "            \"date\": session[\"session_date\"],\n",
    "            \"title\": session[\"session_title\"] \n",
    "        }\n",
    "\n",
    "        insert_stm = insert(sessions_table).values(session_vals)\n",
    "        \n",
    "        conn.execute(insert_stm)\n",
    "    conn.commit()\n",
    "\n",
    "        \n",
    "    \n"
   ]
  },
  {
   "cell_type": "code",
   "execution_count": 41,
   "metadata": {},
   "outputs": [],
   "source": [
    "# for data in sessions_data:\n",
    "#     print(data)"
   ]
  },
  {
   "cell_type": "code",
   "execution_count": 42,
   "metadata": {},
   "outputs": [],
   "source": [
    "# insert into sessions_data\n",
    "\n",
    "with engine.connect() as conn:\n",
    "\n",
    "    for data in sessions_data:\n",
    "    \n",
    "        data_insert_stm = insert(sessions_data_table).values(data)\n",
    "        conn.execute(data_insert_stm)\n",
    "        \n",
    "    conn.commit()\n",
    "    \n",
    "    \n"
   ]
  }
 ],
 "metadata": {
  "kernelspec": {
   "display_name": ".venv",
   "language": "python",
   "name": "python3"
  },
  "language_info": {
   "codemirror_mode": {
    "name": "ipython",
    "version": 3
   },
   "file_extension": ".py",
   "mimetype": "text/x-python",
   "name": "python",
   "nbconvert_exporter": "python",
   "pygments_lexer": "ipython3",
   "version": "3.11.3"
  }
 },
 "nbformat": 4,
 "nbformat_minor": 2
}

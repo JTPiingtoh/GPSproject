{
 "cells": [
  {
   "cell_type": "markdown",
   "metadata": {},
   "source": [
    "This notebook deatails the use of SQLalchemy to create 3 tables, and store data within them from the Excel Spreadsheet. First, the data is loaded into 3 dictionaries in \"database_dicts.py\"."
   ]
  },
  {
   "cell_type": "code",
   "execution_count": 2,
   "metadata": {},
   "outputs": [],
   "source": [
    "from database_dicts import sessions, sessions_data, players # data to be loaded into db\n",
    "from sqlalchemy import create_engine, Table, Column, Integer, String, MetaData, Integer, String, insert\n",
    "\n",
    "\n",
    "engine = create_engine(\"sqlite+pysqlite:///GPSdata1.db\", echo=False)\n",
    "\n",
    "metadata_obj = MetaData()"
   ]
  },
  {
   "cell_type": "code",
   "execution_count": 2,
   "metadata": {},
   "outputs": [],
   "source": [
    "# Create sessions  and sessions_data tables\n",
    "from sqlalchemy import Float\n",
    "\n",
    "with engine.connect() as conn:\n",
    "\n",
    "    player_table = Table(\n",
    "        \"player\",\n",
    "        metadata_obj,\n",
    "        Column(\"id\", Integer, primary_key=True),\n",
    "        Column(\"team\", String(255)),\n",
    "        Column(\"position\", String(255)),\n",
    "    )\n",
    "\n",
    "    sessions_data_table = Table(\n",
    "        \"sessions_data\",\n",
    "        metadata_obj,\n",
    "        Column(\"player_id\", Integer, nullable=False), \n",
    "        Column(\"match_id\", Integer, nullable=False),\n",
    "        Column(\"Duration\", Float),\n",
    "        Column(\"Distance\", Float),\n",
    "        Column(\"HSR\", Float),\n",
    "        Column(\"SD\", Float),\n",
    "        Column(\"Accels + Decels\", Integer),\n",
    "        Column(\"PlayerLoad\", Float),\n",
    "        Column(\"Top Speed\", Float),\n",
    "        Column(\"Dis/min\", Float),\n",
    "        Column(\"HSR/min\", Float),\n",
    "        Column(\"SD/min\", Float),\n",
    "        Column(\"Accels + Decels /min\", Float),\n",
    "    )\n",
    "\n",
    "    sessions_table = Table(\n",
    "            \"sessions\",\n",
    "            metadata_obj,\n",
    "            Column(\"id\", Integer, primary_key=True),\n",
    "            Column(\"date\", String(255)),\n",
    "            Column(\"title\", String(255)),\n",
    "        )\n",
    "    metadata_obj.create_all(engine)\n",
    "\n",
    "\n",
    "    \n"
   ]
  },
  {
   "cell_type": "code",
   "execution_count": 3,
   "metadata": {},
   "outputs": [],
   "source": [
    "# insert into sessions\n",
    "with engine.connect() as conn:\n",
    "\n",
    "    for session in sessions:\n",
    "\n",
    "        session_vals = {\n",
    "            \"date\": session[\"session_date\"],\n",
    "            \"title\": session[\"session_title\"] \n",
    "        }\n",
    "\n",
    "        insert_stm = insert(sessions_table).values(session_vals)\n",
    "        \n",
    "        conn.execute(insert_stm)\n",
    "    conn.commit()\n",
    "\n",
    "        \n",
    "    \n"
   ]
  },
  {
   "cell_type": "code",
   "execution_count": 42,
   "metadata": {},
   "outputs": [],
   "source": [
    "# insert into sessions_data\n",
    "\n",
    "with engine.connect() as conn:\n",
    "\n",
    "    for data in sessions_data:\n",
    "    \n",
    "        data_insert_stm = insert(sessions_data_table).values(data)\n",
    "        conn.execute(data_insert_stm)\n",
    "        \n",
    "    conn.commit()\n",
    "    \n",
    "    \n"
   ]
  },
  {
   "cell_type": "code",
   "execution_count": null,
   "metadata": {},
   "outputs": [],
   "source": [
    "# insert into players\n",
    "with engine.connect as conn:\n",
    "\n",
    "    for player in players:\n",
    "\n",
    "        player_insert_stm = insert(player_table).values(player)\n",
    "        conn.execute(player_insert_stm)\n",
    "        \n",
    "    conn.commit()"
   ]
  }
 ],
 "metadata": {
  "kernelspec": {
   "display_name": ".venv",
   "language": "python",
   "name": "python3"
  },
  "language_info": {
   "codemirror_mode": {
    "name": "ipython",
    "version": 3
   },
   "file_extension": ".py",
   "mimetype": "text/x-python",
   "name": "python",
   "nbconvert_exporter": "python",
   "pygments_lexer": "ipython3",
   "version": "3.11.3"
  }
 },
 "nbformat": 4,
 "nbformat_minor": 2
}

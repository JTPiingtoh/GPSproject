{
 "cells": [
  {
   "cell_type": "code",
   "execution_count": 30,
   "metadata": {},
   "outputs": [],
   "source": [
    "import pandas as pd\n",
    "from database_dicts import sessions, sessions_data, players # data to be loaded into db\n",
    "from sqlalchemy import create_engine, Table, Column, Integer, String, MetaData, Integer, String, insert, select, delete\n",
    "\n",
    "\n",
    "engine = create_engine(\"sqlite+pysqlite:///GPSdata1.db\", echo=False)\n",
    "metadata_obj = MetaData()\n",
    "\n",
    "sessions_table = Table(\"sessions\", metadata_obj, autoload_with=engine)\n",
    "sessions_data_table = Table(\"sessions_data\", metadata_obj, autoload_with=engine)"
   ]
  },
  {
   "cell_type": "code",
   "execution_count": 31,
   "metadata": {},
   "outputs": [
    {
     "name": "stdout",
     "output_type": "stream",
     "text": [
      "Empty DataFrame\n",
      "Columns: []\n",
      "Index: []\n"
     ]
    }
   ],
   "source": [
    "with engine.connect() as conn:\n",
    "\n",
    "    subQ = (\n",
    "    select(sessions_table.c.id)\n",
    "    .where(sessions_table.c.date == \"2022-10-29\", sessions_table.c.title == \"VS DORKING WANDERERS (A)\")\n",
    "    .scalar_subquery()\n",
    "    )\n",
    "\n",
    "    stm = (\n",
    "    select(sessions_data_table)\n",
    "    .where(sessions_data_table.c.match_id == subQ, sessions_data_table.c.player_id == 14)\n",
    "    )\n",
    "\n",
    "    result = conn.execute(stm).mappings().all()\n",
    "\n",
    "    df = pd.DataFrame(result)\n",
    "\n",
    "    print(df)\n",
    "\n"
   ]
  }
 ],
 "metadata": {
  "kernelspec": {
   "display_name": ".venv",
   "language": "python",
   "name": "python3"
  },
  "language_info": {
   "codemirror_mode": {
    "name": "ipython",
    "version": 3
   },
   "file_extension": ".py",
   "mimetype": "text/x-python",
   "name": "python",
   "nbconvert_exporter": "python",
   "pygments_lexer": "ipython3",
   "version": "3.11.3"
  }
 },
 "nbformat": 4,
 "nbformat_minor": 2
}
